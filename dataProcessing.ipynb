{
 "cells": [
  {
   "cell_type": "markdown",
   "metadata": {},
   "source": [
    "## Processing Data to get 2D images for training purposes"
   ]
  },
  {
   "cell_type": "markdown",
   "metadata": {},
   "source": [
    "#### Installing libraries for reading Off files and then turning them into png"
   ]
  },
  {
   "cell_type": "code",
   "execution_count": null,
   "metadata": {},
   "outputs": [],
   "source": [
    "!python -m pip install -U kaleido plotly"
   ]
  },
  {
   "cell_type": "code",
   "execution_count": 14,
   "metadata": {},
   "outputs": [],
   "source": [
    "import os\n",
    "import numpy as np\n",
    "from time import time\n",
    "from collections import Counter\n",
    "from pprint import pprint\n",
    "import plotly.graph_objects as go\n",
    "import numpy as np"
   ]
  },
  {
   "cell_type": "markdown",
   "metadata": {},
   "source": [
    "Navigating and loading data"
   ]
  },
  {
   "cell_type": "code",
   "execution_count": 15,
   "metadata": {},
   "outputs": [
    {
     "name": "stdout",
     "output_type": "stream",
     "text": [
      "['dresser', 'bathtub', 'desk', 'chair', 'night_stand', 'monitor', 'sofa', 'table', 'toilet', 'bed']\n",
      "Counter({'chair': 889,\n",
      "         'sofa': 680,\n",
      "         'bed': 515,\n",
      "         'monitor': 465,\n",
      "         'table': 392,\n",
      "         'toilet': 344,\n",
      "         'dresser': 200,\n",
      "         'desk': 200,\n",
      "         'night_stand': 200,\n",
      "         'bathtub': 106})\n"
     ]
    }
   ],
   "source": [
    "path = '/home/dele/Documents/Machine_learning/TF/ModelNet10/'\n",
    "labels = [d for d in os.listdir(path) if os.path.isdir(os.path.join(path, d))]\n",
    "files = [os.path.join(path,l,'train',ll) for l in labels\n",
    "         for ll in os.listdir(os.path.join(path, l, 'train'))\n",
    "         if ll[-4:] == '.off']\n",
    "\n",
    "print(labels)\n",
    "pprint(Counter([f.split('ModelNet10/')[1].split('/')[0] for f in files]))"
   ]
  },
  {
   "cell_type": "markdown",
   "metadata": {},
   "source": [
    "Functions necessary for generating png files given the ModelNet10 dataset"
   ]
  },
  {
   "cell_type": "code",
   "execution_count": 14,
   "metadata": {},
   "outputs": [],
   "source": [
    "def readOff(filename):\n",
    "    f = open(filename)\n",
    "    f.readline()\n",
    "    nvertices, nfaces, nedges = map(int, f.readline().split())\n",
    "    #print(f\"Vertices: {nvertices}, Faces: {nfaces}, Edges: {nedges}\")\n",
    "    vertices = []\n",
    "    for _ in range(nvertices):\n",
    "        vertices.append(list(map(float, f.readline().strip().split())))\n",
    "\n",
    "    vertices = np.array(vertices)\n",
    "\n",
    "    triangles = []\n",
    "    for _ in range(nfaces):\n",
    "        face = list(map(int, f.readline().strip().split()))\n",
    "        ntriangles, verts = face[0] - 3 + 1, face[1:]\n",
    "        for n in range(ntriangles):\n",
    "            triangles.append([verts[0], verts[1 + n], verts[2 + n]])\n",
    "\n",
    "    triangles = np.array(triangles)\n",
    "\n",
    "    return vertices, triangles"
   ]
  },
  {
   "cell_type": "code",
   "execution_count": 33,
   "metadata": {},
   "outputs": [],
   "source": [
    "def save(filename):\n",
    "    vertices, faces = readOff(filename)\n",
    "\n",
    "    x, y, z = vertices.T\n",
    "    I, J, K = faces.T\n",
    "\n",
    "    mesh = go.Mesh3d(\n",
    "                x=-x,\n",
    "                y=y,\n",
    "                z=z,\n",
    "                #vertexcolor=vertices[:, 3:], #the color codes must be triplets of floats  in [0,1]!!\n",
    "                i=I,\n",
    "                j=J,\n",
    "                k=K,\n",
    "                name='',\n",
    "                showscale=False,\n",
    "                #opacity = 0.75,\n",
    "                color = 'grey')# Download data set from plotly repo\n",
    "\n",
    "\n",
    "    fig = go.Figure(data=mesh)\n",
    "    fig.update_layout(\n",
    "        scene = dict(\n",
    "            xaxis = dict(visible=False),\n",
    "            yaxis = dict(visible=False),\n",
    "            zaxis =dict(visible=False)\n",
    "            ),\n",
    "            #width=300,  # Set the desired width\n",
    "            #height=100  # Set the desired height\n",
    "        )\n",
    "    fig.write_image(\"testImage.png\")\n",
    "    #fig.show()"
   ]
  },
  {
   "cell_type": "markdown",
   "metadata": {},
   "source": [
    "Testing out saving a testImage to see results"
   ]
  },
  {
   "cell_type": "code",
   "execution_count": 34,
   "metadata": {},
   "outputs": [],
   "source": [
    "save('ModelNet10/bathtub/test/bathtub_0138.off') "
   ]
  },
  {
   "attachments": {
    "testImage.png": {
     "image/png": "[encoded data removed]"
    }
   },
   "cell_type": "markdown",
   "metadata": {},
   "source": [
    "![testImage.png](attachment:testImage.png)"
   ]
  },
  {
   "cell_type": "markdown",
   "metadata": {},
   "source": [
    "### Modifying function so it turns every .off file to a png in other folder"
   ]
  },
  {
   "cell_type": "code",
   "execution_count": 22,
   "metadata": {},
   "outputs": [],
   "source": [
    "def convert_off_to_png(input_folder, output_folder):\n",
    "    # Iterate through the categories in ModelNet10\n",
    "    categories = {\n",
    "        'chair': 889,\n",
    "        'sofa': 680,\n",
    "        'bed': 515,\n",
    "        'monitor': 465,\n",
    "        'table': 392,\n",
    "        'toilet': 344,\n",
    "        'dresser': 200,\n",
    "        'desk': 200,\n",
    "        'night_stand': 200,\n",
    "        'bathtub': 106\n",
    "    }\n",
    "\n",
    "    for category, num_samples in categories.items():\n",
    "        for dataset_type in ['train', 'test']:\n",
    "            input_category_folder = os.path.join(input_folder, category, dataset_type)\n",
    "            output_category_folder = os.path.join(output_folder, category, dataset_type, 'Images')\n",
    "\n",
    "            # Create the output directory if it doesn't exist\n",
    "            os.makedirs(output_category_folder, exist_ok=True)\n",
    "\n",
    "            # Iterate through all files in the category and convert .off to .png\n",
    "            for filename in os.listdir(input_category_folder):\n",
    "                if filename.endswith(\".off\"):\n",
    "                    input_filename = os.path.join(input_category_folder, filename)\n",
    "                    output_filename = os.path.join(output_category_folder, f\"{os.path.splitext(filename)[0]}.png\")\n",
    "\n",
    "                    try:\n",
    "                        vertices, faces = readOff(input_filename)\n",
    "                        x, y, z = vertices.T\n",
    "                        I, J, K = faces.T\n",
    "\n",
    "                        mesh = go.Mesh3d(\n",
    "                            x=-x,\n",
    "                            y=y,\n",
    "                            z=z,\n",
    "                            i=I,\n",
    "                            j=J,\n",
    "                            k=K,\n",
    "                            name='',\n",
    "                            showscale=False,\n",
    "                            color='grey'\n",
    "                        )\n",
    "\n",
    "                        fig = go.Figure(data=mesh)\n",
    "                        fig.update_layout(\n",
    "                            scene=dict(\n",
    "                                xaxis=dict(visible=False),\n",
    "                                yaxis=dict(visible=False),\n",
    "                                zaxis=dict(visible=False)\n",
    "                            )\n",
    "                        )\n",
    "                        fig.write_image(output_filename)\n",
    "                        print(f\"Converted {input_filename} to {output_filename}\")\n",
    "                    except Exception as e:\n",
    "                        print(f\"Error converting {input_filename}: {str(e)}\")\n"
   ]
  },
  {
   "cell_type": "code",
   "execution_count": null,
   "metadata": {},
   "outputs": [],
   "source": [
    "input_folder = path\n",
    "output_folder = \"/home/dele/Documents/Machine_learning/TF/Images/\"\n",
    "\n",
    "convert_off_to_png(input_folder, output_folder)"
   ]
  },
  {
   "cell_type": "markdown",
   "metadata": {},
   "source": [
    "### GAN will be recieving 3d input as voxels in a numpy array the same will apply to 2d "
   ]
  },
  {
   "cell_type": "markdown",
   "metadata": {},
   "source": [
    "png to numpy array"
   ]
  },
  {
   "cell_type": "code",
   "execution_count": 35,
   "metadata": {},
   "outputs": [],
   "source": [
    "from PIL import Image"
   ]
  },
  {
   "cell_type": "code",
   "execution_count": 36,
   "metadata": {},
   "outputs": [],
   "source": [
    "def process_png_folder(input_folder, dest_folder):\n",
    "    os.makedirs(dest_folder, exist_ok=True)\n",
    "\n",
    "    for file_name in os.listdir(input_folder):\n",
    "        if file_name.endswith('.png'):\n",
    "            file_path = os.path.join(input_folder, file_name)\n",
    "            destination_path = os.path.join(dest_folder, f'{file_name[:-4]}.npy')\n",
    "\n",
    "            img = Image.open(file_path)\n",
    "            img_array = np.array(img)\n",
    "            np.save(destination_path, img_array)\n",
    "\n",
    "# Example usage\n",
    "input_folder = '/home/dele/Documents/Machine_learning/TF/Images/chair/train/'\n",
    "destination_folder = '/home/dele/Documents/Machine_learning/TF/Train2D_Data'\n",
    "process_png_folder(input_folder, destination_folder)\n"
   ]
  },
  {
   "cell_type": "markdown",
   "metadata": {},
   "source": [
    "from .off files to voxel numpy array"
   ]
  },
  {
   "cell_type": "code",
   "execution_count": 9,
   "metadata": {},
   "outputs": [],
   "source": [
    "import os\n",
    "import random\n",
    "import math\n",
    "import multiprocessing\n",
    "from concurrent.futures import ThreadPoolExecutor\n",
    "from time import time\n",
    "import binvox_rw"
   ]
  },
  {
   "cell_type": "code",
   "execution_count": null,
   "metadata": {},
   "outputs": [],
   "source": [
    "# generate file\n",
    "file = random.choice(files)\n",
    "def check_fix_file(file):\n",
    "    with open(file) as f:\n",
    "        l1 = f.readline()\n",
    "        l2 = f.readlines()\n",
    "\n",
    "    if l1 != 'OFF\\n' and l1[:3] == 'OFF':\n",
    "        out = 'OFF\\n'\n",
    "        out += l1.split('OFF')[1]\n",
    "        out += ''.join(l2)\n",
    "        with open(file, 'w') as f:\n",
    "            f.write(out)\n",
    "\n",
    "def voxels_from_file(file, voxsize):\n",
    "    cmd = f'/home/dele/Documents/Machine_learning/TF/binvox/binvox -d {voxsize} -cb -e {file}'\n",
    "    check_fix_file(file)\n",
    "    out_file = file.split('.')[0] + '.binvox'\n",
    "            \n",
    "    if os.path.exists(out_file):\n",
    "        os.remove(out_file)\n",
    "\n",
    "    t = os.system(cmd)\n",
    "    \n",
    "    if t == 0:\n",
    "        with open(out_file, 'rb') as f:\n",
    "            d = binvox_rw.read_as_3d_array(f).data\n",
    "        \n",
    "        os.remove(out_file)\n",
    "        return 1, d\n",
    "    else:\n",
    "        return 0, None\n",
    "\n",
    "voxels = voxels_from_file(file, 32)\n",
    "print('\\nPlotting:', file)\n"
   ]
  },
  {
   "cell_type": "code",
   "execution_count": 22,
   "metadata": {},
   "outputs": [],
   "source": [
    "import multiprocessing\n",
    "from concurrent.futures import ThreadPoolExecutor\n",
    "\n",
    "def multithreading(func, args, workers):\n",
    "    with ThreadPoolExecutor(max_workers=workers) as executor:\n",
    "        res = executor.map(func, args)\n",
    "    return list(res)\n",
    "\n",
    "get_label = lambda x: x.split('ModelNet')[1][3:].split('/')[0]\n",
    "\n",
    "def get_voxels(files, voxsize):\n",
    "    data = np.ndarray((0, *[voxsize]*3), dtype=bool)\n",
    "    labels = []\n",
    "    errors = []\n",
    "    \n",
    "    for i, file in enumerate(files):\n",
    "        res = voxels_from_file(file, voxsize)\n",
    "        if res[0] == 1:\n",
    "            labels.append(get_label(file))\n",
    "            data = np.vstack([data, res[1].reshape((1, *res[1].shape))])\n",
    "        else:\n",
    "            errors.append(file)\n",
    "\n",
    "    return labels, data, errors\n",
    "\n",
    "get_voxels_parallel = lambda x: get_voxels(*x)\n",
    "\n",
    "def convert_all(path, voxsize):\n",
    "    out_file = os.path.join(path, 'voxels.npy')\n",
    "    labels = [d for d in os.listdir(path) if os.path.isdir(os.path.join(path, d))]\n",
    "    train_files = [os.path.join(path,l,'train',ll) for l in labels\n",
    "                   for ll in os.listdir(os.path.join(path, l, 'train'))\n",
    "                   if ll[-4:] == '.off']\n",
    "    test_files = [os.path.join(path,l,'test',ll) for l in labels\n",
    "                   for ll in os.listdir(os.path.join(path, l, 'test'))\n",
    "                   if ll[-4:] == '.off']\n",
    "\n",
    "    print(f'train: {len(train_files)}, test: {len(test_files)}')\n",
    "    \n",
    "    n_cpu = multiprocessing.cpu_count()\n",
    "    output = {}\n",
    "    \n",
    "    for data_files, data_name in zip([train_files, test_files], ['train', 'test']):\n",
    "        t0 = time()\n",
    "        print(f'Launching {n_cpu} threads for {data_name} set...', end='')\n",
    "        thread_size = math.ceil(len(data_files) / n_cpu)\n",
    "        args = [(data_files[i*thread_size:(i+1)*thread_size], voxsize) for i in range(n_cpu)]\n",
    "        res = multithreading(get_voxels_parallel, args, n_cpu)\n",
    "        labels = []\n",
    "        data = np.ndarray((0, *[voxsize]*3), dtype=bool)\n",
    "        errors = []\n",
    "\n",
    "        for l, d, e in res:\n",
    "            labels += l\n",
    "            data = np.vstack([data, d])\n",
    "            errors += e\n",
    "            \n",
    "        output[data_name] = {'labels': labels, 'data': data, 'errors': errors}\n",
    "        \n",
    "        print('(%.2fs)' % (time() - t0))\n",
    "    \n",
    "    np.save(out_file, output)    \n",
    "    print('\\nSaved on: %s (%.2fM)' % (out_file, os.path.getsize(out_file) / 1024**2))"
   ]
  },
  {
   "cell_type": "code",
   "execution_count": null,
   "metadata": {},
   "outputs": [],
   "source": [
    "convert_all('/home/dele/Documents/Machine_learning/TF/ModelNet10/', voxsize=32)"
   ]
  },
  {
   "cell_type": "markdown",
   "metadata": {},
   "source": [
    "### Once all data has been transformed into png images we can start training GAN"
   ]
  },
  {
   "cell_type": "markdown",
   "metadata": {},
   "source": []
  }
 ],
 "metadata": {
  "kernelspec": {
   "display_name": "Python 3",
   "language": "python",
   "name": "python3"
  },
  "language_info": {
   "codemirror_mode": {
    "name": "ipython",
    "version": 3
   },
   "file_extension": ".py",
   "mimetype": "text/x-python",
   "name": "python",
   "nbconvert_exporter": "python",
   "pygments_lexer": "ipython3",
   "version": "3.10.13"
  }
 },
 "nbformat": 4,
 "nbformat_minor": 2
}
